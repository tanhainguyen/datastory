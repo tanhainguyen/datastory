{
  "nbformat": 4,
  "nbformat_minor": 0,
  "metadata": {
    "colab": {
      "name": "Writing web Crawlers.ipynb",
      "provenance": [],
      "collapsed_sections": [],
      "authorship_tag": "ABX9TyNU341+kV592olVIwV6TXVZ",
      "include_colab_link": true
    },
    "kernelspec": {
      "name": "python3",
      "display_name": "Python 3"
    },
    "language_info": {
      "name": "python"
    }
  },
  "cells": [
    {
      "cell_type": "markdown",
      "metadata": {
        "id": "view-in-github",
        "colab_type": "text"
      },
      "source": [
        "<a href=\"https://colab.research.google.com/github/tanhainguyen/datastory/blob/main/Writing_web_Crawlers.ipynb\" target=\"_parent\"><img src=\"https://colab.research.google.com/assets/colab-badge.svg\" alt=\"Open In Colab\"/></a>"
      ]
    },
    {
      "cell_type": "code",
      "metadata": {
        "id": "uSftZbvO-WJc"
      },
      "source": [
        "#import the library:\n",
        "from urllib.request import urlopen\n",
        "from bs4 import BeautifulSoup\n",
        "import re\n"
      ],
      "execution_count": 1,
      "outputs": []
    },
    {
      "cell_type": "markdown",
      "metadata": {
        "id": "TPUApQzsElxg"
      },
      "source": [
        "how to write a Python script retrieves an arbitrary Wikipedia page and produces a list of links on that page.\n",
        "If you examine the links that point to article pages (as opposed to other internal pages), you’ll see that they all have three things in common:\n",
        "\n",
        "\n",
        "* They reside within the div with the id set to bodyContent.\n",
        "* The URLs do not contain colons.\n",
        "* The URLs begin with /wiki/.\n",
        "\n",
        "\n",
        "You can use these rules to revise the code slightly to retrieve only the desired article links by using the regular expression ^(/wiki/)((?!:).)*$\"):"
      ]
    },
    {
      "cell_type": "code",
      "metadata": {
        "id": "LgBwY1sP-sMP"
      },
      "source": [
        "#read wikipedia page of Kenvin Bacon\n",
        "html=urlopen('http://en.wikipedia.org/wiki/Kevin_Bacon')\n",
        "bs=BeautifulSoup(html.read(),'html.parser')\n",
        "for link in bs.find('div',{'id':'bodyContent'}).find_all('a',href = re.compile('^(/wiki/)((?!:).)*$')):\n",
        "  if 'href' in link.attrs:\n",
        "    print(link.attrs['href'])"
      ],
      "execution_count": null,
      "outputs": []
    },
    {
      "cell_type": "markdown",
      "metadata": {
        "id": "eeyHKfHaMiXP"
      },
      "source": [
        "You need to be able to take this code and transform it into something more like the following:\n",
        "* A single function, getLinks, that takes in a Wikipedia article URL of the\n",
        "form /wiki/<Article_Name> and returns a list of all linked article URLs in the\n",
        "same form.\n",
        "* A main function that calls getLinks with a starting article, chooses a random\n",
        "article link from the returned list, and calls getLinks again, until you stop the program or until no article links are found on the new page"
      ]
    },
    {
      "cell_type": "code",
      "metadata": {
        "colab": {
          "base_uri": "https://localhost:8080/"
        },
        "id": "4memhP-4Mpjz",
        "outputId": "36d13ed4-aeb8-41f1-abeb-47678fe4c98c"
      },
      "source": [
        "#import library\n",
        "from bs4 import BeautifulSoup\n",
        "from urllib.request import urlopen\n",
        "import re\n",
        "import random\n",
        "import datetime\n",
        "random.seed(datetime.datetime.now())\n",
        "\n",
        "#getLinks function\n",
        "def getLinks(url):\n",
        "  html=urlopen('http://en.wikipedia.org{}'.format(url))\n",
        "  bs=BeautifulSoup(html.read(),'html.parser')\n",
        "  return bs.find('div',{'id':'bodyContent'}).find_all('a',href=re.compile('^(/wiki/)((?!:).)*$'))\n",
        "#Main program\n",
        "links = getLinks('/wiki/Kevin_Bacon')\n",
        "while len(links)>0:\n",
        "  newArticle=links[random.randint(0,len(links)-1)].attrs['href']\n",
        "  print(newArticle)\n",
        "  links = getLinks(newArticle)\n",
        "\n"
      ],
      "execution_count": null,
      "outputs": [
        {
          "output_type": "stream",
          "name": "stdout",
          "text": [
            "/wiki/Medan_Hokkien\n",
            "/wiki/Pinyin_input_method\n",
            "/wiki/Chinese_input_methods_for_computers\n",
            "/wiki/List_of_CJK_fonts\n",
            "/wiki/Arphic_Public_License\n",
            "/wiki/Free_Software_Foundation\n",
            "/wiki/List_of_free_software_project_directories\n",
            "/wiki/PHP\n",
            "/wiki/File_Transfer_Protocol\n",
            "/wiki/Border_Gateway_Protocol\n",
            "/wiki/XMPP\n",
            "/wiki/Hall.com\n",
            "/wiki/Dexcom\n",
            "/wiki/Peloton_(exercise_equipment_company)\n",
            "/wiki/Paychex\n",
            "/wiki/Okta_(identity_management)\n",
            "/wiki/Cisco_Systems\n",
            "/wiki/NEC\n",
            "/wiki/JFE_Holdings\n",
            "/wiki/Yahoo!_Japan\n",
            "/wiki/Furukawa_Group\n",
            "/wiki/Mitsui\n",
            "/wiki/Mitsui_O.S.K._Lines\n",
            "/wiki/Mitsui_%26_Co.\n",
            "/wiki/Asahi_Kasei\n",
            "/wiki/Dowa_Holdings\n",
            "/wiki/Taisei_Corporation\n",
            "/wiki/Real_Estate_Development\n",
            "/wiki/Off-plan_property\n",
            "/wiki/Property\n",
            "/wiki/State_monopoly_capitalism\n",
            "/wiki/Supercapitalism_(concept_in_Italian_Fascism)\n",
            "/wiki/Hutu_Power\n",
            "/wiki/Second_Congo_War\n",
            "/wiki/Colour_revolution\n",
            "/wiki/Singing_Revolution\n",
            "/wiki/Korean_War\n",
            "/wiki/List_of_conflicts_related_to_the_Cold_War\n",
            "/wiki/Somalia\n"
          ]
        }
      ]
    },
    {
      "cell_type": "code",
      "metadata": {
        "id": "1PCIYJHOVSsw"
      },
      "source": [
        ""
      ],
      "execution_count": null,
      "outputs": []
    }
  ]
}